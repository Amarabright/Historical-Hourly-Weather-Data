{
 "cells": [
  {
   "cell_type": "markdown",
   "id": "38267cb3",
   "metadata": {},
   "source": [
    "This is an Exploratory Data Analysis on Weather condition of Boston"
   ]
  },
  {
   "cell_type": "code",
   "execution_count": 1,
   "id": "3f7bf12f",
   "metadata": {},
   "outputs": [],
   "source": [
    "import pandas as pd\n",
    "import numpy as np\n",
    "import matplotlib.pyplot as plt\n",
    "import seaborn as sns\n"
   ]
  },
  {
   "cell_type": "code",
   "execution_count": 3,
   "id": "bc104f3b",
   "metadata": {},
   "outputs": [],
   "source": [
    "boston = pd.read_excel('Boston.xlsx')"
   ]
  },
  {
   "cell_type": "code",
   "execution_count": 4,
   "id": "bcdd0899",
   "metadata": {},
   "outputs": [
    {
     "name": "stdout",
     "output_type": "stream",
     "text": [
      "                 datetime  Humidity  Pressure  Temperature  \\\n",
      "0     2012-10-01 12:00:00       NaN       NaN          NaN   \n",
      "1     2012-10-01 13:00:00      68.0    1014.0   287.170000   \n",
      "2     2012-10-01 14:00:00      68.0    1014.0   287.186092   \n",
      "3     2012-10-01 15:00:00      68.0    1014.0   287.231672   \n",
      "4     2012-10-01 16:00:00      68.0    1014.0   287.277251   \n",
      "...                   ...       ...       ...          ...   \n",
      "45248 2017-11-29 20:00:00      37.0    1017.0   288.080000   \n",
      "45249 2017-11-29 21:00:00      74.0    1019.0   286.020000   \n",
      "45250 2017-11-29 22:00:00      74.0    1019.0   283.940000   \n",
      "45251 2017-11-29 23:00:00      56.0    1022.0   282.170000   \n",
      "45252 2017-11-30 00:00:00      56.0    1023.0   280.650000   \n",
      "\n",
      "      Weather Description  Wind direction  Wind speed  \n",
      "0                     NaN             NaN         NaN  \n",
      "1            sky is clear            60.0         3.0  \n",
      "2              few clouds            60.0         3.0  \n",
      "3              few clouds            60.0         3.0  \n",
      "4              few clouds            60.0         3.0  \n",
      "...                   ...             ...         ...  \n",
      "45248       broken clouds           290.0         8.0  \n",
      "45249       broken clouds           340.0         6.0  \n",
      "45250       broken clouds           340.0         7.0  \n",
      "45251          few clouds           330.0         2.0  \n",
      "45252       broken clouds           320.0         2.0  \n",
      "\n",
      "[45253 rows x 7 columns]\n"
     ]
    }
   ],
   "source": [
    "print(boston)"
   ]
  },
  {
   "cell_type": "code",
   "execution_count": 6,
   "id": "96b9c90b",
   "metadata": {},
   "outputs": [
    {
     "data": {
      "text/html": [
       "<div>\n",
       "<style scoped>\n",
       "    .dataframe tbody tr th:only-of-type {\n",
       "        vertical-align: middle;\n",
       "    }\n",
       "\n",
       "    .dataframe tbody tr th {\n",
       "        vertical-align: top;\n",
       "    }\n",
       "\n",
       "    .dataframe thead th {\n",
       "        text-align: right;\n",
       "    }\n",
       "</style>\n",
       "<table border=\"1\" class=\"dataframe\">\n",
       "  <thead>\n",
       "    <tr style=\"text-align: right;\">\n",
       "      <th></th>\n",
       "      <th>Humidity</th>\n",
       "      <th>Pressure</th>\n",
       "      <th>Temperature</th>\n",
       "      <th>Wind direction</th>\n",
       "      <th>Wind speed</th>\n",
       "    </tr>\n",
       "  </thead>\n",
       "  <tbody>\n",
       "    <tr>\n",
       "      <th>count</th>\n",
       "      <td>44804.000000</td>\n",
       "      <td>45246.000000</td>\n",
       "      <td>45250.000000</td>\n",
       "      <td>45252.000000</td>\n",
       "      <td>45252.000000</td>\n",
       "    </tr>\n",
       "    <tr>\n",
       "      <th>mean</th>\n",
       "      <td>77.375301</td>\n",
       "      <td>1019.861314</td>\n",
       "      <td>283.779823</td>\n",
       "      <td>184.915562</td>\n",
       "      <td>3.380889</td>\n",
       "    </tr>\n",
       "    <tr>\n",
       "      <th>std</th>\n",
       "      <td>18.750190</td>\n",
       "      <td>9.548220</td>\n",
       "      <td>9.802499</td>\n",
       "      <td>107.763589</td>\n",
       "      <td>2.277266</td>\n",
       "    </tr>\n",
       "    <tr>\n",
       "      <th>min</th>\n",
       "      <td>11.000000</td>\n",
       "      <td>978.000000</td>\n",
       "      <td>249.540000</td>\n",
       "      <td>0.000000</td>\n",
       "      <td>0.000000</td>\n",
       "    </tr>\n",
       "    <tr>\n",
       "      <th>25%</th>\n",
       "      <td>65.000000</td>\n",
       "      <td>1014.000000</td>\n",
       "      <td>276.090000</td>\n",
       "      <td>80.000000</td>\n",
       "      <td>2.000000</td>\n",
       "    </tr>\n",
       "    <tr>\n",
       "      <th>50%</th>\n",
       "      <td>81.000000</td>\n",
       "      <td>1019.000000</td>\n",
       "      <td>284.133250</td>\n",
       "      <td>210.000000</td>\n",
       "      <td>3.000000</td>\n",
       "    </tr>\n",
       "    <tr>\n",
       "      <th>75%</th>\n",
       "      <td>93.000000</td>\n",
       "      <td>1026.000000</td>\n",
       "      <td>291.620000</td>\n",
       "      <td>272.000000</td>\n",
       "      <td>5.000000</td>\n",
       "    </tr>\n",
       "    <tr>\n",
       "      <th>max</th>\n",
       "      <td>100.000000</td>\n",
       "      <td>1054.000000</td>\n",
       "      <td>308.000000</td>\n",
       "      <td>360.000000</td>\n",
       "      <td>20.000000</td>\n",
       "    </tr>\n",
       "  </tbody>\n",
       "</table>\n",
       "</div>"
      ],
      "text/plain": [
       "           Humidity      Pressure   Temperature  Wind direction    Wind speed\n",
       "count  44804.000000  45246.000000  45250.000000    45252.000000  45252.000000\n",
       "mean      77.375301   1019.861314    283.779823      184.915562      3.380889\n",
       "std       18.750190      9.548220      9.802499      107.763589      2.277266\n",
       "min       11.000000    978.000000    249.540000        0.000000      0.000000\n",
       "25%       65.000000   1014.000000    276.090000       80.000000      2.000000\n",
       "50%       81.000000   1019.000000    284.133250      210.000000      3.000000\n",
       "75%       93.000000   1026.000000    291.620000      272.000000      5.000000\n",
       "max      100.000000   1054.000000    308.000000      360.000000     20.000000"
      ]
     },
     "execution_count": 6,
     "metadata": {},
     "output_type": "execute_result"
    }
   ],
   "source": [
    "boston.describe()"
   ]
  },
  {
   "cell_type": "code",
   "execution_count": 7,
   "id": "100a3dee",
   "metadata": {},
   "outputs": [
    {
     "data": {
      "text/html": [
       "<div>\n",
       "<style scoped>\n",
       "    .dataframe tbody tr th:only-of-type {\n",
       "        vertical-align: middle;\n",
       "    }\n",
       "\n",
       "    .dataframe tbody tr th {\n",
       "        vertical-align: top;\n",
       "    }\n",
       "\n",
       "    .dataframe thead th {\n",
       "        text-align: right;\n",
       "    }\n",
       "</style>\n",
       "<table border=\"1\" class=\"dataframe\">\n",
       "  <thead>\n",
       "    <tr style=\"text-align: right;\">\n",
       "      <th></th>\n",
       "      <th>datetime</th>\n",
       "      <th>Humidity</th>\n",
       "      <th>Pressure</th>\n",
       "      <th>Temperature</th>\n",
       "      <th>Weather Description</th>\n",
       "      <th>Wind direction</th>\n",
       "      <th>Wind speed</th>\n",
       "    </tr>\n",
       "  </thead>\n",
       "  <tbody>\n",
       "    <tr>\n",
       "      <th>0</th>\n",
       "      <td>2012-10-01 12:00:00</td>\n",
       "      <td>NaN</td>\n",
       "      <td>NaN</td>\n",
       "      <td>NaN</td>\n",
       "      <td>NaN</td>\n",
       "      <td>NaN</td>\n",
       "      <td>NaN</td>\n",
       "    </tr>\n",
       "    <tr>\n",
       "      <th>1</th>\n",
       "      <td>2012-10-01 13:00:00</td>\n",
       "      <td>68.0</td>\n",
       "      <td>1014.0</td>\n",
       "      <td>287.170000</td>\n",
       "      <td>sky is clear</td>\n",
       "      <td>60.0</td>\n",
       "      <td>3.0</td>\n",
       "    </tr>\n",
       "    <tr>\n",
       "      <th>2</th>\n",
       "      <td>2012-10-01 14:00:00</td>\n",
       "      <td>68.0</td>\n",
       "      <td>1014.0</td>\n",
       "      <td>287.186092</td>\n",
       "      <td>few clouds</td>\n",
       "      <td>60.0</td>\n",
       "      <td>3.0</td>\n",
       "    </tr>\n",
       "    <tr>\n",
       "      <th>3</th>\n",
       "      <td>2012-10-01 15:00:00</td>\n",
       "      <td>68.0</td>\n",
       "      <td>1014.0</td>\n",
       "      <td>287.231672</td>\n",
       "      <td>few clouds</td>\n",
       "      <td>60.0</td>\n",
       "      <td>3.0</td>\n",
       "    </tr>\n",
       "    <tr>\n",
       "      <th>4</th>\n",
       "      <td>2012-10-01 16:00:00</td>\n",
       "      <td>68.0</td>\n",
       "      <td>1014.0</td>\n",
       "      <td>287.277251</td>\n",
       "      <td>few clouds</td>\n",
       "      <td>60.0</td>\n",
       "      <td>3.0</td>\n",
       "    </tr>\n",
       "  </tbody>\n",
       "</table>\n",
       "</div>"
      ],
      "text/plain": [
       "             datetime  Humidity  Pressure  Temperature Weather Description  \\\n",
       "0 2012-10-01 12:00:00       NaN       NaN          NaN                 NaN   \n",
       "1 2012-10-01 13:00:00      68.0    1014.0   287.170000        sky is clear   \n",
       "2 2012-10-01 14:00:00      68.0    1014.0   287.186092          few clouds   \n",
       "3 2012-10-01 15:00:00      68.0    1014.0   287.231672          few clouds   \n",
       "4 2012-10-01 16:00:00      68.0    1014.0   287.277251          few clouds   \n",
       "\n",
       "   Wind direction  Wind speed  \n",
       "0             NaN         NaN  \n",
       "1            60.0         3.0  \n",
       "2            60.0         3.0  \n",
       "3            60.0         3.0  \n",
       "4            60.0         3.0  "
      ]
     },
     "execution_count": 7,
     "metadata": {},
     "output_type": "execute_result"
    }
   ],
   "source": [
    "boston.head()"
   ]
  },
  {
   "cell_type": "code",
   "execution_count": 8,
   "id": "79192977",
   "metadata": {},
   "outputs": [
    {
     "data": {
      "text/html": [
       "<div>\n",
       "<style scoped>\n",
       "    .dataframe tbody tr th:only-of-type {\n",
       "        vertical-align: middle;\n",
       "    }\n",
       "\n",
       "    .dataframe tbody tr th {\n",
       "        vertical-align: top;\n",
       "    }\n",
       "\n",
       "    .dataframe thead th {\n",
       "        text-align: right;\n",
       "    }\n",
       "</style>\n",
       "<table border=\"1\" class=\"dataframe\">\n",
       "  <thead>\n",
       "    <tr style=\"text-align: right;\">\n",
       "      <th></th>\n",
       "      <th>datetime</th>\n",
       "      <th>Humidity</th>\n",
       "      <th>Pressure</th>\n",
       "      <th>Temperature</th>\n",
       "      <th>Weather Description</th>\n",
       "      <th>Wind direction</th>\n",
       "      <th>Wind speed</th>\n",
       "    </tr>\n",
       "  </thead>\n",
       "  <tbody>\n",
       "    <tr>\n",
       "      <th>45248</th>\n",
       "      <td>2017-11-29 20:00:00</td>\n",
       "      <td>37.0</td>\n",
       "      <td>1017.0</td>\n",
       "      <td>288.08</td>\n",
       "      <td>broken clouds</td>\n",
       "      <td>290.0</td>\n",
       "      <td>8.0</td>\n",
       "    </tr>\n",
       "    <tr>\n",
       "      <th>45249</th>\n",
       "      <td>2017-11-29 21:00:00</td>\n",
       "      <td>74.0</td>\n",
       "      <td>1019.0</td>\n",
       "      <td>286.02</td>\n",
       "      <td>broken clouds</td>\n",
       "      <td>340.0</td>\n",
       "      <td>6.0</td>\n",
       "    </tr>\n",
       "    <tr>\n",
       "      <th>45250</th>\n",
       "      <td>2017-11-29 22:00:00</td>\n",
       "      <td>74.0</td>\n",
       "      <td>1019.0</td>\n",
       "      <td>283.94</td>\n",
       "      <td>broken clouds</td>\n",
       "      <td>340.0</td>\n",
       "      <td>7.0</td>\n",
       "    </tr>\n",
       "    <tr>\n",
       "      <th>45251</th>\n",
       "      <td>2017-11-29 23:00:00</td>\n",
       "      <td>56.0</td>\n",
       "      <td>1022.0</td>\n",
       "      <td>282.17</td>\n",
       "      <td>few clouds</td>\n",
       "      <td>330.0</td>\n",
       "      <td>2.0</td>\n",
       "    </tr>\n",
       "    <tr>\n",
       "      <th>45252</th>\n",
       "      <td>2017-11-30 00:00:00</td>\n",
       "      <td>56.0</td>\n",
       "      <td>1023.0</td>\n",
       "      <td>280.65</td>\n",
       "      <td>broken clouds</td>\n",
       "      <td>320.0</td>\n",
       "      <td>2.0</td>\n",
       "    </tr>\n",
       "  </tbody>\n",
       "</table>\n",
       "</div>"
      ],
      "text/plain": [
       "                 datetime  Humidity  Pressure  Temperature  \\\n",
       "45248 2017-11-29 20:00:00      37.0    1017.0       288.08   \n",
       "45249 2017-11-29 21:00:00      74.0    1019.0       286.02   \n",
       "45250 2017-11-29 22:00:00      74.0    1019.0       283.94   \n",
       "45251 2017-11-29 23:00:00      56.0    1022.0       282.17   \n",
       "45252 2017-11-30 00:00:00      56.0    1023.0       280.65   \n",
       "\n",
       "      Weather Description  Wind direction  Wind speed  \n",
       "45248       broken clouds           290.0         8.0  \n",
       "45249       broken clouds           340.0         6.0  \n",
       "45250       broken clouds           340.0         7.0  \n",
       "45251          few clouds           330.0         2.0  \n",
       "45252       broken clouds           320.0         2.0  "
      ]
     },
     "execution_count": 8,
     "metadata": {},
     "output_type": "execute_result"
    }
   ],
   "source": [
    "boston.tail()"
   ]
  },
  {
   "cell_type": "code",
   "execution_count": 9,
   "id": "96ec559c",
   "metadata": {},
   "outputs": [
    {
     "data": {
      "text/plain": [
       "float64           5\n",
       "object            1\n",
       "datetime64[ns]    1\n",
       "dtype: int64"
      ]
     },
     "execution_count": 9,
     "metadata": {},
     "output_type": "execute_result"
    }
   ],
   "source": [
    "boston.dtypes.value_counts()"
   ]
  },
  {
   "cell_type": "code",
   "execution_count": 10,
   "id": "795c98f4",
   "metadata": {},
   "outputs": [
    {
     "data": {
      "text/html": [
       "<div>\n",
       "<style scoped>\n",
       "    .dataframe tbody tr th:only-of-type {\n",
       "        vertical-align: middle;\n",
       "    }\n",
       "\n",
       "    .dataframe tbody tr th {\n",
       "        vertical-align: top;\n",
       "    }\n",
       "\n",
       "    .dataframe thead th {\n",
       "        text-align: right;\n",
       "    }\n",
       "</style>\n",
       "<table border=\"1\" class=\"dataframe\">\n",
       "  <thead>\n",
       "    <tr style=\"text-align: right;\">\n",
       "      <th></th>\n",
       "      <th>datetime</th>\n",
       "      <th>Humidity</th>\n",
       "      <th>Pressure</th>\n",
       "      <th>Temperature</th>\n",
       "      <th>Weather Description</th>\n",
       "      <th>Wind direction</th>\n",
       "      <th>Wind speed</th>\n",
       "    </tr>\n",
       "  </thead>\n",
       "  <tbody>\n",
       "    <tr>\n",
       "      <th>0</th>\n",
       "      <td>False</td>\n",
       "      <td>True</td>\n",
       "      <td>True</td>\n",
       "      <td>True</td>\n",
       "      <td>True</td>\n",
       "      <td>True</td>\n",
       "      <td>True</td>\n",
       "    </tr>\n",
       "    <tr>\n",
       "      <th>1</th>\n",
       "      <td>False</td>\n",
       "      <td>False</td>\n",
       "      <td>False</td>\n",
       "      <td>False</td>\n",
       "      <td>False</td>\n",
       "      <td>False</td>\n",
       "      <td>False</td>\n",
       "    </tr>\n",
       "    <tr>\n",
       "      <th>2</th>\n",
       "      <td>False</td>\n",
       "      <td>False</td>\n",
       "      <td>False</td>\n",
       "      <td>False</td>\n",
       "      <td>False</td>\n",
       "      <td>False</td>\n",
       "      <td>False</td>\n",
       "    </tr>\n",
       "    <tr>\n",
       "      <th>3</th>\n",
       "      <td>False</td>\n",
       "      <td>False</td>\n",
       "      <td>False</td>\n",
       "      <td>False</td>\n",
       "      <td>False</td>\n",
       "      <td>False</td>\n",
       "      <td>False</td>\n",
       "    </tr>\n",
       "    <tr>\n",
       "      <th>4</th>\n",
       "      <td>False</td>\n",
       "      <td>False</td>\n",
       "      <td>False</td>\n",
       "      <td>False</td>\n",
       "      <td>False</td>\n",
       "      <td>False</td>\n",
       "      <td>False</td>\n",
       "    </tr>\n",
       "    <tr>\n",
       "      <th>...</th>\n",
       "      <td>...</td>\n",
       "      <td>...</td>\n",
       "      <td>...</td>\n",
       "      <td>...</td>\n",
       "      <td>...</td>\n",
       "      <td>...</td>\n",
       "      <td>...</td>\n",
       "    </tr>\n",
       "    <tr>\n",
       "      <th>45248</th>\n",
       "      <td>False</td>\n",
       "      <td>False</td>\n",
       "      <td>False</td>\n",
       "      <td>False</td>\n",
       "      <td>False</td>\n",
       "      <td>False</td>\n",
       "      <td>False</td>\n",
       "    </tr>\n",
       "    <tr>\n",
       "      <th>45249</th>\n",
       "      <td>False</td>\n",
       "      <td>False</td>\n",
       "      <td>False</td>\n",
       "      <td>False</td>\n",
       "      <td>False</td>\n",
       "      <td>False</td>\n",
       "      <td>False</td>\n",
       "    </tr>\n",
       "    <tr>\n",
       "      <th>45250</th>\n",
       "      <td>False</td>\n",
       "      <td>False</td>\n",
       "      <td>False</td>\n",
       "      <td>False</td>\n",
       "      <td>False</td>\n",
       "      <td>False</td>\n",
       "      <td>False</td>\n",
       "    </tr>\n",
       "    <tr>\n",
       "      <th>45251</th>\n",
       "      <td>False</td>\n",
       "      <td>False</td>\n",
       "      <td>False</td>\n",
       "      <td>False</td>\n",
       "      <td>False</td>\n",
       "      <td>False</td>\n",
       "      <td>False</td>\n",
       "    </tr>\n",
       "    <tr>\n",
       "      <th>45252</th>\n",
       "      <td>False</td>\n",
       "      <td>False</td>\n",
       "      <td>False</td>\n",
       "      <td>False</td>\n",
       "      <td>False</td>\n",
       "      <td>False</td>\n",
       "      <td>False</td>\n",
       "    </tr>\n",
       "  </tbody>\n",
       "</table>\n",
       "<p>45253 rows × 7 columns</p>\n",
       "</div>"
      ],
      "text/plain": [
       "       datetime  Humidity  Pressure  Temperature  Weather Description  \\\n",
       "0         False      True      True         True                 True   \n",
       "1         False     False     False        False                False   \n",
       "2         False     False     False        False                False   \n",
       "3         False     False     False        False                False   \n",
       "4         False     False     False        False                False   \n",
       "...         ...       ...       ...          ...                  ...   \n",
       "45248     False     False     False        False                False   \n",
       "45249     False     False     False        False                False   \n",
       "45250     False     False     False        False                False   \n",
       "45251     False     False     False        False                False   \n",
       "45252     False     False     False        False                False   \n",
       "\n",
       "       Wind direction  Wind speed  \n",
       "0                True        True  \n",
       "1               False       False  \n",
       "2               False       False  \n",
       "3               False       False  \n",
       "4               False       False  \n",
       "...               ...         ...  \n",
       "45248           False       False  \n",
       "45249           False       False  \n",
       "45250           False       False  \n",
       "45251           False       False  \n",
       "45252           False       False  \n",
       "\n",
       "[45253 rows x 7 columns]"
      ]
     },
     "execution_count": 10,
     "metadata": {},
     "output_type": "execute_result"
    }
   ],
   "source": [
    "boston.isnull()"
   ]
  },
  {
   "cell_type": "code",
   "execution_count": 11,
   "id": "d8bc4fc1",
   "metadata": {},
   "outputs": [
    {
     "data": {
      "text/plain": [
       "datetime                 0\n",
       "Humidity               449\n",
       "Pressure                 7\n",
       "Temperature              3\n",
       "Weather Description      1\n",
       "Wind direction           1\n",
       "Wind speed               1\n",
       "dtype: int64"
      ]
     },
     "execution_count": 11,
     "metadata": {},
     "output_type": "execute_result"
    }
   ],
   "source": [
    "boston.isnull().sum()"
   ]
  },
  {
   "cell_type": "code",
   "execution_count": 13,
   "id": "73188c19",
   "metadata": {},
   "outputs": [
    {
     "data": {
      "text/plain": [
       "Humidity               0.009922\n",
       "Pressure               0.000155\n",
       "Temperature            0.000066\n",
       "Weather Description    0.000022\n",
       "Wind direction         0.000022\n",
       "Wind speed             0.000022\n",
       "datetime               0.000000\n",
       "dtype: float64"
      ]
     },
     "execution_count": 13,
     "metadata": {},
     "output_type": "execute_result"
    }
   ],
   "source": [
    "boston.isnull().sum().sort_values(ascending=False)/len(boston)"
   ]
  },
  {
   "cell_type": "code",
   "execution_count": 14,
   "id": "5b77f6ec",
   "metadata": {},
   "outputs": [
    {
     "data": {
      "text/plain": [
       "datetime               datetime64[ns]\n",
       "Humidity                      float64\n",
       "Pressure                      float64\n",
       "Temperature                   float64\n",
       "Weather Description            object\n",
       "Wind direction                float64\n",
       "Wind speed                    float64\n",
       "dtype: object"
      ]
     },
     "execution_count": 14,
     "metadata": {},
     "output_type": "execute_result"
    }
   ],
   "source": [
    "boston.dtypes"
   ]
  },
  {
   "cell_type": "code",
   "execution_count": 16,
   "id": "b0701bf9",
   "metadata": {},
   "outputs": [
    {
     "data": {
      "text/plain": [
       "(45253, 7)"
      ]
     },
     "execution_count": 16,
     "metadata": {},
     "output_type": "execute_result"
    }
   ],
   "source": [
    "boston.shape"
   ]
  },
  {
   "cell_type": "code",
   "execution_count": 17,
   "id": "7464a40d",
   "metadata": {},
   "outputs": [
    {
     "name": "stdout",
     "output_type": "stream",
     "text": [
      "number of duplicate rows:  (0, 7)\n"
     ]
    }
   ],
   "source": [
    "duplicate_rows_data = boston[boston.duplicated()]\n",
    "print(\"number of duplicate rows: \", duplicate_rows_data.shape)"
   ]
  },
  {
   "cell_type": "code",
   "execution_count": 19,
   "id": "9862a56e",
   "metadata": {},
   "outputs": [
    {
     "data": {
      "text/plain": [
       "<AxesSubplot:xlabel='Temperature'>"
      ]
     },
     "execution_count": 19,
     "metadata": {},
     "output_type": "execute_result"
    },
    {
     "data": {
      "image/png": "[encoded data removed]",
      "text/plain": [
       "<Figure size 432x288 with 1 Axes>"
      ]
     },
     "metadata": {
      "needs_background": "light"
     },
     "output_type": "display_data"
    }
   ],
   "source": [
    "sns.boxplot(x=boston['Temperature'])"
   ]
  },
  {
   "cell_type": "code",
   "execution_count": 21,
   "id": "e2800805",
   "metadata": {},
   "outputs": [
    {
     "data": {
      "text/plain": [
       "<AxesSubplot:xlabel='Wind speed'>"
      ]
     },
     "execution_count": 21,
     "metadata": {},
     "output_type": "execute_result"
    },
    {
     "data": {
      "image/png": "[encoded data removed]",
      "text/plain": [
       "<Figure size 432x288 with 1 Axes>"
      ]
     },
     "metadata": {
      "needs_background": "light"
     },
     "output_type": "display_data"
    }
   ],
   "source": [
    "sns.boxplot(x=boston['Wind speed'])"
   ]
  },
  {
   "cell_type": "code",
   "execution_count": 23,
   "id": "1f7d1804",
   "metadata": {},
   "outputs": [
    {
     "name": "stdout",
     "output_type": "stream",
     "text": [
      "Humidity           28.00\n",
      "Pressure           12.00\n",
      "Temperature        15.53\n",
      "Wind direction    192.00\n",
      "Wind speed          3.00\n",
      "dtype: float64\n"
     ]
    }
   ],
   "source": [
    "Q1 = boston.quantile(0.25)\n",
    "Q3 = boston.quantile(0.75)\n",
    "IQR = Q3 - Q1\n",
    "print(IQR)"
   ]
  },
  {
   "cell_type": "code",
   "execution_count": 24,
   "id": "13084fc9",
   "metadata": {},
   "outputs": [
    {
     "data": {
      "text/html": [
       "<div>\n",
       "<style scoped>\n",
       "    .dataframe tbody tr th:only-of-type {\n",
       "        vertical-align: middle;\n",
       "    }\n",
       "\n",
       "    .dataframe tbody tr th {\n",
       "        vertical-align: top;\n",
       "    }\n",
       "\n",
       "    .dataframe thead th {\n",
       "        text-align: right;\n",
       "    }\n",
       "</style>\n",
       "<table border=\"1\" class=\"dataframe\">\n",
       "  <thead>\n",
       "    <tr style=\"text-align: right;\">\n",
       "      <th></th>\n",
       "      <th>Humidity</th>\n",
       "      <th>Pressure</th>\n",
       "      <th>Temperature</th>\n",
       "      <th>Wind direction</th>\n",
       "      <th>Wind speed</th>\n",
       "    </tr>\n",
       "  </thead>\n",
       "  <tbody>\n",
       "    <tr>\n",
       "      <th>Humidity</th>\n",
       "      <td>1.000000</td>\n",
       "      <td>0.121491</td>\n",
       "      <td>-0.102459</td>\n",
       "      <td>-0.090910</td>\n",
       "      <td>0.041527</td>\n",
       "    </tr>\n",
       "    <tr>\n",
       "      <th>Pressure</th>\n",
       "      <td>0.121491</td>\n",
       "      <td>1.000000</td>\n",
       "      <td>-0.228405</td>\n",
       "      <td>-0.076987</td>\n",
       "      <td>-0.031578</td>\n",
       "    </tr>\n",
       "    <tr>\n",
       "      <th>Temperature</th>\n",
       "      <td>-0.102459</td>\n",
       "      <td>-0.228405</td>\n",
       "      <td>1.000000</td>\n",
       "      <td>-0.071877</td>\n",
       "      <td>-0.118061</td>\n",
       "    </tr>\n",
       "    <tr>\n",
       "      <th>Wind direction</th>\n",
       "      <td>-0.090910</td>\n",
       "      <td>-0.076987</td>\n",
       "      <td>-0.071877</td>\n",
       "      <td>1.000000</td>\n",
       "      <td>0.089114</td>\n",
       "    </tr>\n",
       "    <tr>\n",
       "      <th>Wind speed</th>\n",
       "      <td>0.041527</td>\n",
       "      <td>-0.031578</td>\n",
       "      <td>-0.118061</td>\n",
       "      <td>0.089114</td>\n",
       "      <td>1.000000</td>\n",
       "    </tr>\n",
       "  </tbody>\n",
       "</table>\n",
       "</div>"
      ],
      "text/plain": [
       "                Humidity  Pressure  Temperature  Wind direction  Wind speed\n",
       "Humidity        1.000000  0.121491    -0.102459       -0.090910    0.041527\n",
       "Pressure        0.121491  1.000000    -0.228405       -0.076987   -0.031578\n",
       "Temperature    -0.102459 -0.228405     1.000000       -0.071877   -0.118061\n",
       "Wind direction -0.090910 -0.076987    -0.071877        1.000000    0.089114\n",
       "Wind speed      0.041527 -0.031578    -0.118061        0.089114    1.000000"
      ]
     },
     "execution_count": 24,
     "metadata": {},
     "output_type": "execute_result"
    },
    {
     "data": {
      "image/png": "[encoded data removed]",
      "text/plain": [
       "<Figure size 720x360 with 2 Axes>"
      ]
     },
     "metadata": {
      "needs_background": "light"
     },
     "output_type": "display_data"
    }
   ],
   "source": [
    "plt.figure(figsize=(10,5))\n",
    "c= boston.corr()\n",
    "sns.heatmap(c,cmap=\"BrBG\",annot=True)\n",
    "c"
   ]
  },
  {
   "cell_type": "code",
   "execution_count": 25,
   "id": "6eeb3776",
   "metadata": {},
   "outputs": [
    {
     "data": {
      "image/png": "[encoded data removed]",
      "text/plain": [
       "<Figure size 720x432 with 1 Axes>"
      ]
     },
     "metadata": {
      "needs_background": "light"
     },
     "output_type": "display_data"
    }
   ],
   "source": [
    "fig, ax = plt.subplots(figsize=(10,6))\n",
    "ax.scatter(boston['Temperature'], boston['Wind speed'])\n",
    "ax.set_xlabel('Temperature')\n",
    "ax.set_ylabel('Wind Speed')\n",
    "plt.show()"
   ]
  },
  {
   "cell_type": "code",
   "execution_count": null,
   "id": "67de97de",
   "metadata": {},
   "outputs": [],
   "source": []
  }
 ],
 "metadata": {
  "kernelspec": {
   "display_name": "Python 3",
   "language": "python",
   "name": "python3"
  },
  "language_info": {
   "codemirror_mode": {
    "name": "ipython",
    "version": 3
   },
   "file_extension": ".py",
   "mimetype": "text/x-python",
   "name": "python",
   "nbconvert_exporter": "python",
   "pygments_lexer": "ipython3",
   "version": "3.8.8"
  }
 },
 "nbformat": 4,
 "nbformat_minor": 5
}
