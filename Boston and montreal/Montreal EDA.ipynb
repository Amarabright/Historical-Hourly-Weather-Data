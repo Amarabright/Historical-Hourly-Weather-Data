{
 "cells": [
  {
   "cell_type": "markdown",
   "id": "2e881e25",
   "metadata": {},
   "source": [
    "This is an Exploratory Data Analysis on Weather condition of Montreaal"
   ]
  },
  {
   "cell_type": "code",
   "execution_count": 1,
   "id": "37d44132",
   "metadata": {},
   "outputs": [],
   "source": [
    "import pandas as pd\n",
    "import numpy as np\n",
    "import matplotlib.pyplot as plt\n",
    "import seaborn as sns"
   ]
  },
  {
   "cell_type": "code",
   "execution_count": 4,
   "id": "a45c5764",
   "metadata": {},
   "outputs": [],
   "source": [
    "data = pd.read_excel('MONTREAL.xlsx')"
   ]
  },
  {
   "cell_type": "code",
   "execution_count": 5,
   "id": "cb1c6b2c",
   "metadata": {},
   "outputs": [
    {
     "name": "stdout",
     "output_type": "stream",
     "text": [
      "                 datetime   Humudity   Pressure  Temperature  \\\n",
      "0     2012-10-01 12:00:00        NaN        NaN          NaN   \n",
      "1     2012-10-01 13:00:00       93.0     1001.0   285.830000   \n",
      "2     2012-10-01 14:00:00       91.0      986.0   285.834650   \n",
      "3     2012-10-01 15:00:00       87.0      945.0   285.847790   \n",
      "4     2012-10-01 16:00:00       84.0      904.0   285.860929   \n",
      "...                   ...        ...        ...          ...   \n",
      "45248 2017-11-29 20:00:00       64.0     1021.0   275.130000   \n",
      "45249 2017-11-29 21:00:00       59.0     1023.0   274.130000   \n",
      "45250 2017-11-29 22:00:00       66.0     1024.0   273.480000   \n",
      "45251 2017-11-29 23:00:00       58.0     1026.0   272.480000   \n",
      "45252 2017-11-30 00:00:00       58.0     1027.0   271.800000   \n",
      "\n",
      "      Weather Description  Wind direction  Wind Speed  \n",
      "0                     NaN             NaN         NaN  \n",
      "1         overcast clouds           230.0         4.0  \n",
      "2            sky is clear           230.0         4.0  \n",
      "3            sky is clear           231.0         4.0  \n",
      "4            sky is clear           233.0         4.0  \n",
      "...                   ...             ...         ...  \n",
      "45248       broken clouds           300.0        10.0  \n",
      "45249    scattered clouds           300.0         7.0  \n",
      "45250          few clouds           290.0         7.0  \n",
      "45251          few clouds           290.0         4.0  \n",
      "45252          few clouds           300.0         4.0  \n",
      "\n",
      "[45253 rows x 7 columns]\n"
     ]
    }
   ],
   "source": [
    "print(data)"
   ]
  },
  {
   "cell_type": "code",
   "execution_count": 6,
   "id": "45119385",
   "metadata": {},
   "outputs": [
    {
     "data": {
      "text/html": [
       "<div>\n",
       "<style scoped>\n",
       "    .dataframe tbody tr th:only-of-type {\n",
       "        vertical-align: middle;\n",
       "    }\n",
       "\n",
       "    .dataframe tbody tr th {\n",
       "        vertical-align: top;\n",
       "    }\n",
       "\n",
       "    .dataframe thead th {\n",
       "        text-align: right;\n",
       "    }\n",
       "</style>\n",
       "<table border=\"1\" class=\"dataframe\">\n",
       "  <thead>\n",
       "    <tr style=\"text-align: right;\">\n",
       "      <th></th>\n",
       "      <th>Humudity</th>\n",
       "      <th>Pressure</th>\n",
       "      <th>Temperature</th>\n",
       "      <th>Wind direction</th>\n",
       "      <th>Wind Speed</th>\n",
       "    </tr>\n",
       "  </thead>\n",
       "  <tbody>\n",
       "    <tr>\n",
       "      <th>count</th>\n",
       "      <td>43557.000000</td>\n",
       "      <td>44259.000000</td>\n",
       "      <td>45250.000000</td>\n",
       "      <td>45252.000000</td>\n",
       "      <td>45252.000000</td>\n",
       "    </tr>\n",
       "    <tr>\n",
       "      <th>mean</th>\n",
       "      <td>71.861538</td>\n",
       "      <td>1016.424953</td>\n",
       "      <td>280.343010</td>\n",
       "      <td>190.133541</td>\n",
       "      <td>3.831897</td>\n",
       "    </tr>\n",
       "    <tr>\n",
       "      <th>std</th>\n",
       "      <td>16.825027</td>\n",
       "      <td>9.534390</td>\n",
       "      <td>11.953626</td>\n",
       "      <td>99.033739</td>\n",
       "      <td>2.483430</td>\n",
       "    </tr>\n",
       "    <tr>\n",
       "      <th>min</th>\n",
       "      <td>7.000000</td>\n",
       "      <td>822.000000</td>\n",
       "      <td>243.300000</td>\n",
       "      <td>0.000000</td>\n",
       "      <td>0.000000</td>\n",
       "    </tr>\n",
       "    <tr>\n",
       "      <th>25%</th>\n",
       "      <td>60.000000</td>\n",
       "      <td>1011.000000</td>\n",
       "      <td>271.971750</td>\n",
       "      <td>111.000000</td>\n",
       "      <td>2.000000</td>\n",
       "    </tr>\n",
       "    <tr>\n",
       "      <th>50%</th>\n",
       "      <td>74.000000</td>\n",
       "      <td>1016.000000</td>\n",
       "      <td>281.109000</td>\n",
       "      <td>220.000000</td>\n",
       "      <td>3.000000</td>\n",
       "    </tr>\n",
       "    <tr>\n",
       "      <th>75%</th>\n",
       "      <td>86.000000</td>\n",
       "      <td>1022.000000</td>\n",
       "      <td>290.369583</td>\n",
       "      <td>260.000000</td>\n",
       "      <td>5.000000</td>\n",
       "    </tr>\n",
       "    <tr>\n",
       "      <th>max</th>\n",
       "      <td>100.000000</td>\n",
       "      <td>1054.000000</td>\n",
       "      <td>307.880000</td>\n",
       "      <td>360.000000</td>\n",
       "      <td>24.000000</td>\n",
       "    </tr>\n",
       "  </tbody>\n",
       "</table>\n",
       "</div>"
      ],
      "text/plain": [
       "           Humudity      Pressure   Temperature  Wind direction    Wind Speed\n",
       "count  43557.000000  44259.000000  45250.000000    45252.000000  45252.000000\n",
       "mean      71.861538   1016.424953    280.343010      190.133541      3.831897\n",
       "std       16.825027      9.534390     11.953626       99.033739      2.483430\n",
       "min        7.000000    822.000000    243.300000        0.000000      0.000000\n",
       "25%       60.000000   1011.000000    271.971750      111.000000      2.000000\n",
       "50%       74.000000   1016.000000    281.109000      220.000000      3.000000\n",
       "75%       86.000000   1022.000000    290.369583      260.000000      5.000000\n",
       "max      100.000000   1054.000000    307.880000      360.000000     24.000000"
      ]
     },
     "execution_count": 6,
     "metadata": {},
     "output_type": "execute_result"
    }
   ],
   "source": [
    "data.describe()"
   ]
  },
  {
   "cell_type": "code",
   "execution_count": 7,
   "id": "ecf8ea87",
   "metadata": {},
   "outputs": [
    {
     "data": {
      "text/html": [
       "<div>\n",
       "<style scoped>\n",
       "    .dataframe tbody tr th:only-of-type {\n",
       "        vertical-align: middle;\n",
       "    }\n",
       "\n",
       "    .dataframe tbody tr th {\n",
       "        vertical-align: top;\n",
       "    }\n",
       "\n",
       "    .dataframe thead th {\n",
       "        text-align: right;\n",
       "    }\n",
       "</style>\n",
       "<table border=\"1\" class=\"dataframe\">\n",
       "  <thead>\n",
       "    <tr style=\"text-align: right;\">\n",
       "      <th></th>\n",
       "      <th>datetime</th>\n",
       "      <th>Humudity</th>\n",
       "      <th>Pressure</th>\n",
       "      <th>Temperature</th>\n",
       "      <th>Weather Description</th>\n",
       "      <th>Wind direction</th>\n",
       "      <th>Wind Speed</th>\n",
       "    </tr>\n",
       "  </thead>\n",
       "  <tbody>\n",
       "    <tr>\n",
       "      <th>0</th>\n",
       "      <td>2012-10-01 12:00:00</td>\n",
       "      <td>NaN</td>\n",
       "      <td>NaN</td>\n",
       "      <td>NaN</td>\n",
       "      <td>NaN</td>\n",
       "      <td>NaN</td>\n",
       "      <td>NaN</td>\n",
       "    </tr>\n",
       "    <tr>\n",
       "      <th>1</th>\n",
       "      <td>2012-10-01 13:00:00</td>\n",
       "      <td>93.0</td>\n",
       "      <td>1001.0</td>\n",
       "      <td>285.830000</td>\n",
       "      <td>overcast clouds</td>\n",
       "      <td>230.0</td>\n",
       "      <td>4.0</td>\n",
       "    </tr>\n",
       "    <tr>\n",
       "      <th>2</th>\n",
       "      <td>2012-10-01 14:00:00</td>\n",
       "      <td>91.0</td>\n",
       "      <td>986.0</td>\n",
       "      <td>285.834650</td>\n",
       "      <td>sky is clear</td>\n",
       "      <td>230.0</td>\n",
       "      <td>4.0</td>\n",
       "    </tr>\n",
       "    <tr>\n",
       "      <th>3</th>\n",
       "      <td>2012-10-01 15:00:00</td>\n",
       "      <td>87.0</td>\n",
       "      <td>945.0</td>\n",
       "      <td>285.847790</td>\n",
       "      <td>sky is clear</td>\n",
       "      <td>231.0</td>\n",
       "      <td>4.0</td>\n",
       "    </tr>\n",
       "    <tr>\n",
       "      <th>4</th>\n",
       "      <td>2012-10-01 16:00:00</td>\n",
       "      <td>84.0</td>\n",
       "      <td>904.0</td>\n",
       "      <td>285.860929</td>\n",
       "      <td>sky is clear</td>\n",
       "      <td>233.0</td>\n",
       "      <td>4.0</td>\n",
       "    </tr>\n",
       "  </tbody>\n",
       "</table>\n",
       "</div>"
      ],
      "text/plain": [
       "             datetime   Humudity   Pressure  Temperature Weather Description  \\\n",
       "0 2012-10-01 12:00:00        NaN        NaN          NaN                 NaN   \n",
       "1 2012-10-01 13:00:00       93.0     1001.0   285.830000     overcast clouds   \n",
       "2 2012-10-01 14:00:00       91.0      986.0   285.834650        sky is clear   \n",
       "3 2012-10-01 15:00:00       87.0      945.0   285.847790        sky is clear   \n",
       "4 2012-10-01 16:00:00       84.0      904.0   285.860929        sky is clear   \n",
       "\n",
       "   Wind direction  Wind Speed  \n",
       "0             NaN         NaN  \n",
       "1           230.0         4.0  \n",
       "2           230.0         4.0  \n",
       "3           231.0         4.0  \n",
       "4           233.0         4.0  "
      ]
     },
     "execution_count": 7,
     "metadata": {},
     "output_type": "execute_result"
    }
   ],
   "source": [
    "data.head()"
   ]
  },
  {
   "cell_type": "code",
   "execution_count": 8,
   "id": "bb5eecbb",
   "metadata": {},
   "outputs": [
    {
     "data": {
      "text/html": [
       "<div>\n",
       "<style scoped>\n",
       "    .dataframe tbody tr th:only-of-type {\n",
       "        vertical-align: middle;\n",
       "    }\n",
       "\n",
       "    .dataframe tbody tr th {\n",
       "        vertical-align: top;\n",
       "    }\n",
       "\n",
       "    .dataframe thead th {\n",
       "        text-align: right;\n",
       "    }\n",
       "</style>\n",
       "<table border=\"1\" class=\"dataframe\">\n",
       "  <thead>\n",
       "    <tr style=\"text-align: right;\">\n",
       "      <th></th>\n",
       "      <th>datetime</th>\n",
       "      <th>Humudity</th>\n",
       "      <th>Pressure</th>\n",
       "      <th>Temperature</th>\n",
       "      <th>Weather Description</th>\n",
       "      <th>Wind direction</th>\n",
       "      <th>Wind Speed</th>\n",
       "    </tr>\n",
       "  </thead>\n",
       "  <tbody>\n",
       "    <tr>\n",
       "      <th>45248</th>\n",
       "      <td>2017-11-29 20:00:00</td>\n",
       "      <td>64.0</td>\n",
       "      <td>1021.0</td>\n",
       "      <td>275.13</td>\n",
       "      <td>broken clouds</td>\n",
       "      <td>300.0</td>\n",
       "      <td>10.0</td>\n",
       "    </tr>\n",
       "    <tr>\n",
       "      <th>45249</th>\n",
       "      <td>2017-11-29 21:00:00</td>\n",
       "      <td>59.0</td>\n",
       "      <td>1023.0</td>\n",
       "      <td>274.13</td>\n",
       "      <td>scattered clouds</td>\n",
       "      <td>300.0</td>\n",
       "      <td>7.0</td>\n",
       "    </tr>\n",
       "    <tr>\n",
       "      <th>45250</th>\n",
       "      <td>2017-11-29 22:00:00</td>\n",
       "      <td>66.0</td>\n",
       "      <td>1024.0</td>\n",
       "      <td>273.48</td>\n",
       "      <td>few clouds</td>\n",
       "      <td>290.0</td>\n",
       "      <td>7.0</td>\n",
       "    </tr>\n",
       "    <tr>\n",
       "      <th>45251</th>\n",
       "      <td>2017-11-29 23:00:00</td>\n",
       "      <td>58.0</td>\n",
       "      <td>1026.0</td>\n",
       "      <td>272.48</td>\n",
       "      <td>few clouds</td>\n",
       "      <td>290.0</td>\n",
       "      <td>4.0</td>\n",
       "    </tr>\n",
       "    <tr>\n",
       "      <th>45252</th>\n",
       "      <td>2017-11-30 00:00:00</td>\n",
       "      <td>58.0</td>\n",
       "      <td>1027.0</td>\n",
       "      <td>271.80</td>\n",
       "      <td>few clouds</td>\n",
       "      <td>300.0</td>\n",
       "      <td>4.0</td>\n",
       "    </tr>\n",
       "  </tbody>\n",
       "</table>\n",
       "</div>"
      ],
      "text/plain": [
       "                 datetime   Humudity   Pressure  Temperature  \\\n",
       "45248 2017-11-29 20:00:00       64.0     1021.0       275.13   \n",
       "45249 2017-11-29 21:00:00       59.0     1023.0       274.13   \n",
       "45250 2017-11-29 22:00:00       66.0     1024.0       273.48   \n",
       "45251 2017-11-29 23:00:00       58.0     1026.0       272.48   \n",
       "45252 2017-11-30 00:00:00       58.0     1027.0       271.80   \n",
       "\n",
       "      Weather Description  Wind direction  Wind Speed  \n",
       "45248       broken clouds           300.0        10.0  \n",
       "45249    scattered clouds           300.0         7.0  \n",
       "45250          few clouds           290.0         7.0  \n",
       "45251          few clouds           290.0         4.0  \n",
       "45252          few clouds           300.0         4.0  "
      ]
     },
     "execution_count": 8,
     "metadata": {},
     "output_type": "execute_result"
    }
   ],
   "source": [
    "data.tail()"
   ]
  },
  {
   "cell_type": "code",
   "execution_count": 9,
   "id": "27ac383b",
   "metadata": {},
   "outputs": [
    {
     "data": {
      "text/plain": [
       "float64           5\n",
       "object            1\n",
       "datetime64[ns]    1\n",
       "dtype: int64"
      ]
     },
     "execution_count": 9,
     "metadata": {},
     "output_type": "execute_result"
    }
   ],
   "source": [
    "data.dtypes.value_counts()"
   ]
  },
  {
   "cell_type": "code",
   "execution_count": 10,
   "id": "70952d4b",
   "metadata": {},
   "outputs": [
    {
     "data": {
      "text/html": [
       "<div>\n",
       "<style scoped>\n",
       "    .dataframe tbody tr th:only-of-type {\n",
       "        vertical-align: middle;\n",
       "    }\n",
       "\n",
       "    .dataframe tbody tr th {\n",
       "        vertical-align: top;\n",
       "    }\n",
       "\n",
       "    .dataframe thead th {\n",
       "        text-align: right;\n",
       "    }\n",
       "</style>\n",
       "<table border=\"1\" class=\"dataframe\">\n",
       "  <thead>\n",
       "    <tr style=\"text-align: right;\">\n",
       "      <th></th>\n",
       "      <th>datetime</th>\n",
       "      <th>Humudity</th>\n",
       "      <th>Pressure</th>\n",
       "      <th>Temperature</th>\n",
       "      <th>Weather Description</th>\n",
       "      <th>Wind direction</th>\n",
       "      <th>Wind Speed</th>\n",
       "    </tr>\n",
       "  </thead>\n",
       "  <tbody>\n",
       "    <tr>\n",
       "      <th>0</th>\n",
       "      <td>False</td>\n",
       "      <td>True</td>\n",
       "      <td>True</td>\n",
       "      <td>True</td>\n",
       "      <td>True</td>\n",
       "      <td>True</td>\n",
       "      <td>True</td>\n",
       "    </tr>\n",
       "    <tr>\n",
       "      <th>1</th>\n",
       "      <td>False</td>\n",
       "      <td>False</td>\n",
       "      <td>False</td>\n",
       "      <td>False</td>\n",
       "      <td>False</td>\n",
       "      <td>False</td>\n",
       "      <td>False</td>\n",
       "    </tr>\n",
       "    <tr>\n",
       "      <th>2</th>\n",
       "      <td>False</td>\n",
       "      <td>False</td>\n",
       "      <td>False</td>\n",
       "      <td>False</td>\n",
       "      <td>False</td>\n",
       "      <td>False</td>\n",
       "      <td>False</td>\n",
       "    </tr>\n",
       "    <tr>\n",
       "      <th>3</th>\n",
       "      <td>False</td>\n",
       "      <td>False</td>\n",
       "      <td>False</td>\n",
       "      <td>False</td>\n",
       "      <td>False</td>\n",
       "      <td>False</td>\n",
       "      <td>False</td>\n",
       "    </tr>\n",
       "    <tr>\n",
       "      <th>4</th>\n",
       "      <td>False</td>\n",
       "      <td>False</td>\n",
       "      <td>False</td>\n",
       "      <td>False</td>\n",
       "      <td>False</td>\n",
       "      <td>False</td>\n",
       "      <td>False</td>\n",
       "    </tr>\n",
       "    <tr>\n",
       "      <th>...</th>\n",
       "      <td>...</td>\n",
       "      <td>...</td>\n",
       "      <td>...</td>\n",
       "      <td>...</td>\n",
       "      <td>...</td>\n",
       "      <td>...</td>\n",
       "      <td>...</td>\n",
       "    </tr>\n",
       "    <tr>\n",
       "      <th>45248</th>\n",
       "      <td>False</td>\n",
       "      <td>False</td>\n",
       "      <td>False</td>\n",
       "      <td>False</td>\n",
       "      <td>False</td>\n",
       "      <td>False</td>\n",
       "      <td>False</td>\n",
       "    </tr>\n",
       "    <tr>\n",
       "      <th>45249</th>\n",
       "      <td>False</td>\n",
       "      <td>False</td>\n",
       "      <td>False</td>\n",
       "      <td>False</td>\n",
       "      <td>False</td>\n",
       "      <td>False</td>\n",
       "      <td>False</td>\n",
       "    </tr>\n",
       "    <tr>\n",
       "      <th>45250</th>\n",
       "      <td>False</td>\n",
       "      <td>False</td>\n",
       "      <td>False</td>\n",
       "      <td>False</td>\n",
       "      <td>False</td>\n",
       "      <td>False</td>\n",
       "      <td>False</td>\n",
       "    </tr>\n",
       "    <tr>\n",
       "      <th>45251</th>\n",
       "      <td>False</td>\n",
       "      <td>False</td>\n",
       "      <td>False</td>\n",
       "      <td>False</td>\n",
       "      <td>False</td>\n",
       "      <td>False</td>\n",
       "      <td>False</td>\n",
       "    </tr>\n",
       "    <tr>\n",
       "      <th>45252</th>\n",
       "      <td>False</td>\n",
       "      <td>False</td>\n",
       "      <td>False</td>\n",
       "      <td>False</td>\n",
       "      <td>False</td>\n",
       "      <td>False</td>\n",
       "      <td>False</td>\n",
       "    </tr>\n",
       "  </tbody>\n",
       "</table>\n",
       "<p>45253 rows × 7 columns</p>\n",
       "</div>"
      ],
      "text/plain": [
       "       datetime   Humudity   Pressure  Temperature  Weather Description  \\\n",
       "0         False       True       True         True                 True   \n",
       "1         False      False      False        False                False   \n",
       "2         False      False      False        False                False   \n",
       "3         False      False      False        False                False   \n",
       "4         False      False      False        False                False   \n",
       "...         ...        ...        ...          ...                  ...   \n",
       "45248     False      False      False        False                False   \n",
       "45249     False      False      False        False                False   \n",
       "45250     False      False      False        False                False   \n",
       "45251     False      False      False        False                False   \n",
       "45252     False      False      False        False                False   \n",
       "\n",
       "       Wind direction  Wind Speed  \n",
       "0                True        True  \n",
       "1               False       False  \n",
       "2               False       False  \n",
       "3               False       False  \n",
       "4               False       False  \n",
       "...               ...         ...  \n",
       "45248           False       False  \n",
       "45249           False       False  \n",
       "45250           False       False  \n",
       "45251           False       False  \n",
       "45252           False       False  \n",
       "\n",
       "[45253 rows x 7 columns]"
      ]
     },
     "execution_count": 10,
     "metadata": {},
     "output_type": "execute_result"
    }
   ],
   "source": [
    "data.isnull()"
   ]
  },
  {
   "cell_type": "code",
   "execution_count": 11,
   "id": "08245f79",
   "metadata": {},
   "outputs": [
    {
     "data": {
      "text/plain": [
       "datetime                  0\n",
       " Humudity              1696\n",
       " Pressure               994\n",
       "Temperature               3\n",
       "Weather Description       1\n",
       "Wind direction            1\n",
       "Wind Speed                1\n",
       "dtype: int64"
      ]
     },
     "execution_count": 11,
     "metadata": {},
     "output_type": "execute_result"
    }
   ],
   "source": [
    "data.isnull().sum()"
   ]
  },
  {
   "cell_type": "code",
   "execution_count": 12,
   "id": "42559d0c",
   "metadata": {},
   "outputs": [
    {
     "data": {
      "text/plain": [
       " Humudity              0.037478\n",
       " Pressure              0.021965\n",
       "Temperature            0.000066\n",
       "Weather Description    0.000022\n",
       "Wind direction         0.000022\n",
       "Wind Speed             0.000022\n",
       "datetime               0.000000\n",
       "dtype: float64"
      ]
     },
     "execution_count": 12,
     "metadata": {},
     "output_type": "execute_result"
    }
   ],
   "source": [
    "data.isnull().sum().sort_values(ascending=False)/len(data)"
   ]
  },
  {
   "cell_type": "code",
   "execution_count": 14,
   "id": "16cc8a57",
   "metadata": {},
   "outputs": [
    {
     "data": {
      "text/plain": [
       "datetime               datetime64[ns]\n",
       " Humudity                     float64\n",
       " Pressure                     float64\n",
       "Temperature                   float64\n",
       "Weather Description            object\n",
       "Wind direction                float64\n",
       "Wind Speed                    float64\n",
       "dtype: object"
      ]
     },
     "execution_count": 14,
     "metadata": {},
     "output_type": "execute_result"
    }
   ],
   "source": [
    "data.dtypes"
   ]
  },
  {
   "cell_type": "code",
   "execution_count": 16,
   "id": "c14ef110",
   "metadata": {},
   "outputs": [
    {
     "data": {
      "text/plain": [
       "(45253, 7)"
      ]
     },
     "execution_count": 16,
     "metadata": {},
     "output_type": "execute_result"
    }
   ],
   "source": [
    "data.shape"
   ]
  },
  {
   "cell_type": "code",
   "execution_count": 17,
   "id": "52f1e438",
   "metadata": {},
   "outputs": [
    {
     "name": "stdout",
     "output_type": "stream",
     "text": [
      "number of duplicate rows:  (0, 7)\n"
     ]
    }
   ],
   "source": [
    "duplicate_rows_data = data[data.duplicated()]\n",
    "print(\"number of duplicate rows: \", duplicate_rows_data.shape)"
   ]
  },
  {
   "cell_type": "code",
   "execution_count": 27,
   "id": "38186003",
   "metadata": {},
   "outputs": [
    {
     "data": {
      "text/plain": [
       "<AxesSubplot:xlabel='Temperature'>"
      ]
     },
     "execution_count": 27,
     "metadata": {},
     "output_type": "execute_result"
    },
    {
     "data": {
      "image/png": "[encoded data removed]",
      "text/plain": [
       "<Figure size 432x288 with 1 Axes>"
      ]
     },
     "metadata": {
      "needs_background": "light"
     },
     "output_type": "display_data"
    }
   ],
   "source": [
    "sns.boxplot(x=data['Temperature'])"
   ]
  },
  {
   "cell_type": "code",
   "execution_count": 29,
   "id": "8f170ca5",
   "metadata": {},
   "outputs": [
    {
     "data": {
      "text/plain": [
       "<AxesSubplot:xlabel='Wind direction'>"
      ]
     },
     "execution_count": 29,
     "metadata": {},
     "output_type": "execute_result"
    },
    {
     "data": {
      "image/png": "[encoded data removed]",
      "text/plain": [
       "<Figure size 432x288 with 1 Axes>"
      ]
     },
     "metadata": {
      "needs_background": "light"
     },
     "output_type": "display_data"
    }
   ],
   "source": [
    "sns.boxplot(x=data['Wind direction'])"
   ]
  },
  {
   "cell_type": "code",
   "execution_count": 31,
   "id": "845244a5",
   "metadata": {},
   "outputs": [
    {
     "data": {
      "text/plain": [
       "<AxesSubplot:xlabel='Wind Speed'>"
      ]
     },
     "execution_count": 31,
     "metadata": {},
     "output_type": "execute_result"
    },
    {
     "data": {
      "image/png": "[encoded data removed]",
      "text/plain": [
       "<Figure size 432x288 with 1 Axes>"
      ]
     },
     "metadata": {
      "needs_background": "light"
     },
     "output_type": "display_data"
    }
   ],
   "source": [
    "sns.boxplot(x=data['Wind Speed'])"
   ]
  },
  {
   "cell_type": "code",
   "execution_count": 33,
   "id": "2e66f060",
   "metadata": {},
   "outputs": [
    {
     "name": "stdout",
     "output_type": "stream",
     "text": [
      " Humudity          26.00\n",
      " Pressure          11.00\n",
      "Temperature        18.81\n",
      "Wind direction    145.00\n",
      "Wind Speed          3.00\n",
      "dtype: float64\n"
     ]
    }
   ],
   "source": [
    "Q1 = data.quantile(0.25)\n",
    "Q3 = data.quantile(0.75)\n",
    "IQR = Q3 - Q1\n",
    "print(IQR)"
   ]
  },
  {
   "cell_type": "code",
   "execution_count": 39,
   "id": "94831213",
   "metadata": {},
   "outputs": [
    {
     "data": {
      "text/html": [
       "<div>\n",
       "<style scoped>\n",
       "    .dataframe tbody tr th:only-of-type {\n",
       "        vertical-align: middle;\n",
       "    }\n",
       "\n",
       "    .dataframe tbody tr th {\n",
       "        vertical-align: top;\n",
       "    }\n",
       "\n",
       "    .dataframe thead th {\n",
       "        text-align: right;\n",
       "    }\n",
       "</style>\n",
       "<table border=\"1\" class=\"dataframe\">\n",
       "  <thead>\n",
       "    <tr style=\"text-align: right;\">\n",
       "      <th></th>\n",
       "      <th>Humudity</th>\n",
       "      <th>Pressure</th>\n",
       "      <th>Temperature</th>\n",
       "      <th>Wind direction</th>\n",
       "      <th>Wind Speed</th>\n",
       "    </tr>\n",
       "  </thead>\n",
       "  <tbody>\n",
       "    <tr>\n",
       "      <th>Humudity</th>\n",
       "      <td>1.000000</td>\n",
       "      <td>-0.221259</td>\n",
       "      <td>-0.078333</td>\n",
       "      <td>-0.102384</td>\n",
       "      <td>-0.116106</td>\n",
       "    </tr>\n",
       "    <tr>\n",
       "      <th>Pressure</th>\n",
       "      <td>-0.221259</td>\n",
       "      <td>1.000000</td>\n",
       "      <td>-0.262281</td>\n",
       "      <td>-0.083207</td>\n",
       "      <td>-0.243946</td>\n",
       "    </tr>\n",
       "    <tr>\n",
       "      <th>Temperature</th>\n",
       "      <td>-0.078333</td>\n",
       "      <td>-0.262281</td>\n",
       "      <td>1.000000</td>\n",
       "      <td>-0.002170</td>\n",
       "      <td>-0.042550</td>\n",
       "    </tr>\n",
       "    <tr>\n",
       "      <th>Wind direction</th>\n",
       "      <td>-0.102384</td>\n",
       "      <td>-0.083207</td>\n",
       "      <td>-0.002170</td>\n",
       "      <td>1.000000</td>\n",
       "      <td>0.110124</td>\n",
       "    </tr>\n",
       "    <tr>\n",
       "      <th>Wind Speed</th>\n",
       "      <td>-0.116106</td>\n",
       "      <td>-0.243946</td>\n",
       "      <td>-0.042550</td>\n",
       "      <td>0.110124</td>\n",
       "      <td>1.000000</td>\n",
       "    </tr>\n",
       "  </tbody>\n",
       "</table>\n",
       "</div>"
      ],
      "text/plain": [
       "                 Humudity   Pressure  Temperature  Wind direction  Wind Speed\n",
       " Humudity        1.000000  -0.221259    -0.078333       -0.102384   -0.116106\n",
       " Pressure       -0.221259   1.000000    -0.262281       -0.083207   -0.243946\n",
       "Temperature     -0.078333  -0.262281     1.000000       -0.002170   -0.042550\n",
       "Wind direction  -0.102384  -0.083207    -0.002170        1.000000    0.110124\n",
       "Wind Speed      -0.116106  -0.243946    -0.042550        0.110124    1.000000"
      ]
     },
     "execution_count": 39,
     "metadata": {},
     "output_type": "execute_result"
    },
    {
     "data": {
      "image/png": "[encoded data removed]",
      "text/plain": [
       "<Figure size 720x360 with 2 Axes>"
      ]
     },
     "metadata": {
      "needs_background": "light"
     },
     "output_type": "display_data"
    }
   ],
   "source": [
    "plt.figure(figsize=(10,5))\n",
    "c= data.corr()\n",
    "sns.heatmap(c,cmap=\"BrBG\",annot=True)\n",
    "c"
   ]
  },
  {
   "cell_type": "code",
   "execution_count": 43,
   "id": "ebd9c969",
   "metadata": {},
   "outputs": [
    {
     "data": {
      "image/png": "[encoded data removed]",
      "text/plain": [
       "<Figure size 720x432 with 1 Axes>"
      ]
     },
     "metadata": {
      "needs_background": "light"
     },
     "output_type": "display_data"
    }
   ],
   "source": [
    "fig, ax = plt.subplots(figsize=(10,6))\n",
    "ax.scatter(data['Temperature'], data['Wind Speed'])\n",
    "ax.set_xlabel('Temperature')\n",
    "ax.set_ylabel('Wind Speed')\n",
    "plt.show()"
   ]
  },
  {
   "cell_type": "code",
   "execution_count": null,
   "id": "aeded0ad",
   "metadata": {},
   "outputs": [],
   "source": []
  }
 ],
 "metadata": {
  "kernelspec": {
   "display_name": "Python 3",
   "language": "python",
   "name": "python3"
  },
  "language_info": {
   "codemirror_mode": {
    "name": "ipython",
    "version": 3
   },
   "file_extension": ".py",
   "mimetype": "text/x-python",
   "name": "python",
   "nbconvert_exporter": "python",
   "pygments_lexer": "ipython3",
   "version": "3.8.8"
  }
 },
 "nbformat": 4,
 "nbformat_minor": 5
}
